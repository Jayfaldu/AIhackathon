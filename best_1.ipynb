{
  "nbformat": 4,
  "nbformat_minor": 0,
  "metadata": {
    "colab": {
      "name": "language_2.ipynb",
      "version": "0.3.2",
      "provenance": [],
      "collapsed_sections": []
    },
    "kernelspec": {
      "name": "python3",
      "display_name": "Python 3"
    },
    "accelerator": "GPU"
  },
  "cells": [
    {
      "cell_type": "code",
      "metadata": {
        "id": "FIvGcPigPJxy",
        "colab_type": "code",
        "colab": {}
      },
      "source": [
        "import scipy.io.wavfile as wav\n",
        "import librosa as lr\n",
        "import numpy as np # linear algebra\n",
        "import pandas as pd \n",
        "import matplotlib.pyplot as plt\n",
        "import os\n",
        "import torch.nn.functional as F\n",
        "from torch import optim\n",
        "import torch.nn as nn\n",
        "import torchvision.models as models\n",
        "import torch"
      ],
      "execution_count": 0,
      "outputs": []
    },
    {
      "cell_type": "code",
      "metadata": {
        "id": "oGacYCGNPYm-",
        "colab_type": "code",
        "outputId": "ef923d24-7b49-4f9f-a154-ae3dba65bda4",
        "colab": {
          "base_uri": "https://localhost:8080/",
          "height": 55
        }
      },
      "source": [
        "from google.colab import drive\n",
        "drive.mount('/content/drive')"
      ],
      "execution_count": 0,
      "outputs": [
        {
          "output_type": "stream",
          "text": [
            "Drive already mounted at /content/drive; to attempt to forcibly remount, call drive.mount(\"/content/drive\", force_remount=True).\n"
          ],
          "name": "stdout"
        }
      ]
    },
    {
      "cell_type": "code",
      "metadata": {
        "id": "cUZ4KL_rPawA",
        "colab_type": "code",
        "outputId": "82f0fd36-5640-4947-e006-5f8a2eae89fe",
        "colab": {
          "base_uri": "https://localhost:8080/",
          "height": 173
        }
      },
      "source": [
        "data_path='/content/drive/My Drive/'\n",
        "os.listdir('/content/drive/My Drive/')"
      ],
      "execution_count": 0,
      "outputs": [
        {
          "output_type": "execute_result",
          "data": {
            "text/plain": [
              "['Getting started.pdf',\n",
              " 'Colab Notebooks',\n",
              " 'br_mini',\n",
              " 'dv_mini',\n",
              " 'mn_mini',\n",
              " 'tr_mini',\n",
              " 'ML_data',\n",
              " 'finalized',\n",
              " 'test_set']"
            ]
          },
          "metadata": {
            "tags": []
          },
          "execution_count": 3
        }
      ]
    },
    {
      "cell_type": "code",
      "metadata": {
        "id": "qnNLgez5b2UD",
        "colab_type": "code",
        "outputId": "9f9bea3c-34be-4d59-b153-a71dd15d24de",
        "colab": {
          "base_uri": "https://localhost:8080/",
          "height": 35
        }
      },
      "source": [
        "torch.cuda.is_available()"
      ],
      "execution_count": 0,
      "outputs": [
        {
          "output_type": "execute_result",
          "data": {
            "text/plain": [
              "True"
            ]
          },
          "metadata": {
            "tags": []
          },
          "execution_count": 4
        }
      ]
    },
    {
      "cell_type": "code",
      "metadata": {
        "id": "ErBC7dB9PkYx",
        "colab_type": "code",
        "colab": {}
      },
      "source": [
        "tr_mini=[data_path+'tr_mini/'+i for i in os.listdir(data_path+'tr_mini')]\n",
        "br_mini=[data_path+'br_mini/'+i for i in os.listdir(data_path+'br_mini')]\n",
        "mn_mini=[data_path+'mn_mini/'+i for i in os.listdir(data_path+'mn_mini')]\n",
        "dv_mini=[data_path+'dv_mini/'+i for i in os.listdir(data_path+'dv_mini')]"
      ],
      "execution_count": 0,
      "outputs": []
    },
    {
      "cell_type": "code",
      "metadata": {
        "id": "1MfonL-yPqRj",
        "colab_type": "code",
        "colab": {}
      },
      "source": [
        "data=pd.DataFrame({'fname':tr_mini,'label': [1 for i in range(len(tr_mini))]})\n",
        "data=pd.concat([data,pd.DataFrame({'fname':br_mini,'label': [4 for i in range(len(br_mini))]})])\n",
        "data=pd.concat([data,pd.DataFrame({'fname':dv_mini,'label': [3 for i in range(len(dv_mini))]})])\n",
        "data=pd.concat([data,pd.DataFrame({'fname':mn_mini,'label': [2 for i in range(len(mn_mini))]})])"
      ],
      "execution_count": 0,
      "outputs": []
    },
    {
      "cell_type": "code",
      "metadata": {
        "id": "xWcqb40nPtNW",
        "colab_type": "code",
        "colab": {}
      },
      "source": [
        "df = data.sample(frac=1).reset_index(drop=True)"
      ],
      "execution_count": 0,
      "outputs": []
    },
    {
      "cell_type": "code",
      "metadata": {
        "id": "gZeZMIJ8PsjB",
        "colab_type": "code",
        "colab": {}
      },
      "source": [
        "class Config(object):\n",
        "  \n",
        "  def __init__(self,\n",
        "                 lr,epochs,sample_freq=44000, audio_length=5, n_classes=4,n_mfcc=20):\n",
        "    self.sample_freq=sample_freq\n",
        "    self.n_classes=4\n",
        "    self.n_mfcc=n_mfcc\n",
        "    self.audio_length=audio_length;\n",
        "    self.max_len=audio_length*sample_freq\n",
        "    self.epochs=epochs\n",
        "    self.lr=lr\n",
        "    self.dim = (self.n_mfcc, 1 + int(np.floor(self.max_len/512)), 1)\n",
        "\n",
        "config=Config(lr=0.0001,epochs=20) "
      ],
      "execution_count": 0,
      "outputs": []
    },
    {
      "cell_type": "code",
      "metadata": {
        "id": "4D_M5s4ePtJ-",
        "colab_type": "code",
        "colab": {}
      },
      "source": [
        "def prepare_data(df,config):\n",
        "    X = np.empty(shape=(df.shape[0], config.dim[0], config.dim[1], 1))\n",
        "    input_length = config.max_len\n",
        "    for i, fname in enumerate(df.fname):\n",
        "        file_path =fname\n",
        "        data, _ = lr.core.load(file_path, sr=config.sample_freq, res_type=\"kaiser_fast\")\n",
        "\n",
        "        # Random offset / Padding\n",
        "        if len(data) > input_length:\n",
        "            max_offset = len(data) - input_length\n",
        "            offset = np.random.randint(max_offset)\n",
        "            data = data[offset:(input_length+offset)]\n",
        "        else:\n",
        "            if input_length > len(data):\n",
        "                max_offset = input_length - len(data)\n",
        "                offset = np.random.randint(max_offset)\n",
        "            else:\n",
        "                offset = 0\n",
        "            data = np.pad(data, (offset, input_length - len(data) - offset), \"constant\")\n",
        "\n",
        "        data = lr.feature.mfcc(data,sr=config.sample_freq, n_mfcc=config.n_mfcc)\n",
        "        data = np.expand_dims(data, axis=-1)\n",
        "        X[i,] = data\n",
        "    return X"
      ],
      "execution_count": 0,
      "outputs": []
    },
    {
      "cell_type": "code",
      "metadata": {
        "id": "6R6NghhrPtHF",
        "colab_type": "code",
        "colab": {}
      },
      "source": [
        "X_train=prepare_data(df,config)"
      ],
      "execution_count": 0,
      "outputs": []
    },
    {
      "cell_type": "code",
      "metadata": {
        "id": "1ylCNQcxf2wX",
        "colab_type": "code",
        "outputId": "7fcd7634-c19b-4bf3-c9b6-6bead6dc7d99",
        "colab": {
          "base_uri": "https://localhost:8080/",
          "height": 35
        }
      },
      "source": [
        "X_train.shape"
      ],
      "execution_count": 0,
      "outputs": [
        {
          "output_type": "execute_result",
          "data": {
            "text/plain": [
              "(5541, 20, 430, 1)"
            ]
          },
          "metadata": {
            "tags": []
          },
          "execution_count": 11
        }
      ]
    },
    {
      "cell_type": "code",
      "metadata": {
        "id": "CXaSGjq7PtEp",
        "colab_type": "code",
        "colab": {}
      },
      "source": [
        "X_train=X_train.squeeze()\n",
        "x=X_train.reshape(X_train.shape[0],-1)\n",
        "x=torch.tensor(x)\n",
        "x=x.float()\n",
        "x_train=x[:4000]\n",
        "x_val=x[4000:]"
      ],
      "execution_count": 0,
      "outputs": []
    },
    {
      "cell_type": "code",
      "metadata": {
        "id": "HWjN4i8NL99m",
        "colab_type": "code",
        "outputId": "2360c488-f335-49fa-d995-57b013690960",
        "colab": {
          "base_uri": "https://localhost:8080/",
          "height": 35
        }
      },
      "source": [
        "mean=x_train.mean()\n",
        "std=x_train.std()\n",
        "x_train=(x_train-mean)/std\n",
        "x_val=(x_val-mean)/std\n",
        "mean,std"
      ],
      "execution_count": 0,
      "outputs": [
        {
          "output_type": "execute_result",
          "data": {
            "text/plain": [
              "(tensor(-19.2376), tensor(114.0728))"
            ]
          },
          "metadata": {
            "tags": []
          },
          "execution_count": 13
        }
      ]
    },
    {
      "cell_type": "code",
      "metadata": {
        "id": "8pJl4aJ9QC8n",
        "colab_type": "code",
        "colab": {}
      },
      "source": [
        "Y_train=np.asarray(df.label)\n",
        "y=torch.tensor(Y_train)\n",
        "y=y-1\n",
        "y_train=y[:4000]\n",
        "y_val=y[4000:]\n"
      ],
      "execution_count": 0,
      "outputs": []
    },
    {
      "cell_type": "code",
      "metadata": {
        "id": "9pfhKzjkMWqk",
        "colab_type": "code",
        "colab": {}
      },
      "source": [
        "def kaim_uniform(m):\n",
        "    if isinstance(m, nn.Linear):\n",
        "        torch.nn.init.kaiming_normal(m.weight.data)"
      ],
      "execution_count": 0,
      "outputs": []
    },
    {
      "cell_type": "code",
      "metadata": {
        "id": "x3qJ1sp4Avc2",
        "colab_type": "code",
        "colab": {}
      },
      "source": [
        "def kaim_normal(m):\n",
        "    if isinstance(m, nn.Linear):\n",
        "        torch.nn.init.kaiming_normal(m.weight.data)"
      ],
      "execution_count": 0,
      "outputs": []
    },
    {
      "cell_type": "code",
      "metadata": {
        "id": "WIuuc0CFQEwn",
        "colab_type": "code",
        "colab": {}
      },
      "source": [
        "def get_model(lr):\n",
        "  model=nn.Sequential(nn.Linear(8600,4300),\n",
        "                      nn.BatchNorm1d(4300),\n",
        "                      nn.ReLU(),\n",
        "                      nn.Linear(4300,2150),\n",
        "                      nn.BatchNorm1d(2150),\n",
        "                      nn.ReLU(),\n",
        "                      nn.Linear(2150,1075),\n",
        "                      nn.BatchNorm1d(1075),\n",
        "                      nn.ReLU(),\n",
        "                      nn.Linear(1075,500),\n",
        "                      nn.BatchNorm1d(500),\n",
        "                      nn.ReLU(),\n",
        "                      nn.Linear(500,200),\n",
        "                      nn.BatchNorm1d(200),\n",
        "                      nn.ReLU(),\n",
        "                      nn.Linear(200,100),\n",
        "                      nn.BatchNorm1d(100),\n",
        "                      nn.ReLU(),\n",
        "                      nn.Linear(100,50),\n",
        "                      nn.BatchNorm1d(50),\n",
        "                      nn.ReLU(),\n",
        "                      nn.Linear(50,4))\n",
        "  model.apply(kaim_uniform)\n",
        "                       \n",
        "  return model,optim.SGD(model.parameters(),lr=lr,momentum=0.9)"
      ],
      "execution_count": 0,
      "outputs": []
    },
    {
      "cell_type": "code",
      "metadata": {
        "id": "YGs7jznkBEG9",
        "colab_type": "code",
        "outputId": "66c8cdb4-b7ec-4fea-a18e-5bd34e4db56d",
        "colab": {
          "base_uri": "https://localhost:8080/",
          "height": 72
        }
      },
      "source": [
        "model,opt=get_model(0.0003)"
      ],
      "execution_count": 60,
      "outputs": [
        {
          "output_type": "stream",
          "text": [
            "/usr/local/lib/python3.6/dist-packages/ipykernel_launcher.py:3: UserWarning: nn.init.kaiming_normal is now deprecated in favor of nn.init.kaiming_normal_.\n",
            "  This is separate from the ipykernel package so we can avoid doing imports until\n"
          ],
          "name": "stderr"
        }
      ]
    },
    {
      "cell_type": "code",
      "metadata": {
        "id": "M0Yir4WKBcnS",
        "colab_type": "code",
        "colab": {}
      },
      "source": [
        "model=model.to('cuda')\n"
      ],
      "execution_count": 0,
      "outputs": []
    },
    {
      "cell_type": "code",
      "metadata": {
        "id": "8CJPZNYDQErF",
        "colab_type": "code",
        "colab": {}
      },
      "source": [
        "def accuracy(out,yb): return (torch.argmax(out,dim=1)==yb).float().mean()\n",
        "loss_func=F.cross_entropy"
      ],
      "execution_count": 0,
      "outputs": []
    },
    {
      "cell_type": "code",
      "metadata": {
        "id": "LLuDd2HZQEj6",
        "colab_type": "code",
        "outputId": "cc623f8d-9845-421a-97eb-2fb25c423ead",
        "colab": {
          "base_uri": "https://localhost:8080/",
          "height": 69
        }
      },
      "source": [
        "n=len(y_train)\n",
        "bs=64\n",
        "x_tmp=x_train[:64].float()\n",
        "pred=model(x_tmp.to('cuda'))\n",
        "pred.shape,pred[0]"
      ],
      "execution_count": 63,
      "outputs": [
        {
          "output_type": "execute_result",
          "data": {
            "text/plain": [
              "(torch.Size([64, 4]),\n",
              " tensor([-0.4207, -0.0739, -0.4796,  0.9332], device='cuda:0',\n",
              "        grad_fn=<SelectBackward>))"
            ]
          },
          "metadata": {
            "tags": []
          },
          "execution_count": 63
        }
      ]
    },
    {
      "cell_type": "code",
      "metadata": {
        "id": "cAdaZpVTsm4U",
        "colab_type": "code",
        "colab": {}
      },
      "source": [
        "y_val=y_val.to('cuda')"
      ],
      "execution_count": 0,
      "outputs": []
    },
    {
      "cell_type": "code",
      "metadata": {
        "id": "Nhy7_N7sI0NC",
        "colab_type": "code",
        "colab": {}
      },
      "source": [
        "def get_batches(y_trian,bs):\n",
        "  for n in range(0,len(y_train),bs):\n",
        "    yield x_train[n:n+bs].to('cuda'),y_train[n:n+bs].to('cuda')"
      ],
      "execution_count": 0,
      "outputs": []
    },
    {
      "cell_type": "code",
      "metadata": {
        "id": "p9-sU-pLLZbQ",
        "colab_type": "code",
        "outputId": "8d710337-b1f0-4cf2-9ddb-6b6cccdc2005",
        "colab": {
          "base_uri": "https://localhost:8080/",
          "height": 208
        }
      },
      "source": [
        "mm=get_batches(y_train,64)\n",
        "next(mm)"
      ],
      "execution_count": 66,
      "outputs": [
        {
          "output_type": "execute_result",
          "data": {
            "text/plain": [
              "(tensor([[-5.6616, -5.6616, -5.6616,  ...,  0.1686,  0.1686,  0.1686],\n",
              "         [-4.6970, -4.6970, -4.6970,  ...,  0.1686,  0.1686,  0.1686],\n",
              "         [-4.3561, -4.3561, -4.3561,  ...,  0.1686,  0.1686,  0.1686],\n",
              "         ...,\n",
              "         [-1.5522, -1.8062, -1.9218,  ..., -0.0667,  0.0192,  0.0506],\n",
              "         [-4.7472, -4.7472, -4.7472,  ...,  0.1686,  0.1686,  0.1686],\n",
              "         [-4.5841, -4.5841, -4.5841,  ...,  0.1686,  0.1686,  0.1686]],\n",
              "        device='cuda:0'),\n",
              " tensor([0, 1, 1, 1, 3, 1, 3, 3, 0, 2, 3, 0, 3, 0, 3, 3, 1, 1, 0, 0, 3, 1, 3, 1,\n",
              "         0, 3, 0, 3, 1, 3, 0, 1, 1, 0, 0, 2, 2, 3, 1, 0, 0, 1, 3, 1, 3, 2, 3, 1,\n",
              "         2, 3, 2, 0, 2, 2, 3, 0, 1, 2, 3, 0, 1, 1, 3, 3], device='cuda:0'))"
            ]
          },
          "metadata": {
            "tags": []
          },
          "execution_count": 66
        }
      ]
    },
    {
      "cell_type": "code",
      "metadata": {
        "id": "JTThyngkxytz",
        "colab_type": "code",
        "colab": {}
      },
      "source": [
        "bs=64\n",
        "def train_loop(epoch,lr):\n",
        "  train_loss=[]\n",
        "  val_loss=[]\n",
        "  acc=[]\n",
        "  opt=optim.Adam(model.parameters(),lr)\n",
        "#   val_loss=2\n",
        "  for epoch in range(epoch):\n",
        "    lol=0;\n",
        "    batch=get_batches(y_train,bs)\n",
        "    for xb,yb in batch:\n",
        "        pred = model(xb)\n",
        "        loss = loss_func(pred, yb)\n",
        "#         print(loss)\n",
        "        lol+=loss\n",
        "        loss.backward()\n",
        "        opt.step()\n",
        "        opt.zero_grad()\n",
        "#         for p in model.parameters():\n",
        "#           p.register_hook(lambda grad: torch.clamp(grad, -1, 1))\n",
        "    ans=model(x_val.to('cuda'))\n",
        "    val_tmp=loss_func(ans,y_val)\n",
        "#     if val_loss>val_tmp:\n",
        "#       val_loss=val_tmp\n",
        "#       torch.save('stop')\n",
        "    val_loss.append(val_tmp)\n",
        "    print(\"validation-{}\".format(val_loss[epoch]))\n",
        "    \n",
        "    acc.append(accuracy(ans,y_val))\n",
        "    print(\"accuracy-{}\".format(acc[-1]))\n",
        "    train_loss.append(lol/((n-1)//64 + 1))\n",
        "    print(\"train_loss-{}\".format(train_loss[-1]))\n",
        "  plt.plot(val_loss,label='val_loss')\n",
        "  plt.plot(train_loss,label='train_loss')\n",
        "  plt.plot(acc,label='acc')\n",
        "  plt.legend()"
      ],
      "execution_count": 0,
      "outputs": []
    },
    {
      "cell_type": "code",
      "metadata": {
        "id": "DbfpGe9_yHXN",
        "colab_type": "code",
        "outputId": "6fff1ea4-5880-417b-b47d-81f1c554e931",
        "colab": {
          "base_uri": "https://localhost:8080/",
          "height": 425
        }
      },
      "source": [
        "train_loop(3,0.001)"
      ],
      "execution_count": 70,
      "outputs": [
        {
          "output_type": "stream",
          "text": [
            "validation-0.670589029788971\n",
            "accuracy-0.7962362170219421\n",
            "train_loss-0.2846868634223938\n",
            "validation-0.620619535446167\n",
            "accuracy-0.8163530230522156\n",
            "train_loss-0.24638958275318146\n",
            "validation-0.6199025511741638\n",
            "accuracy-0.8189487457275391\n",
            "train_loss-0.1962801218032837\n"
          ],
          "name": "stdout"
        },
        {
          "output_type": "display_data",
          "data": {
            "image/png": "[encoded data removed]",
            "text/plain": [
              "<Figure size 432x288 with 1 Axes>"
            ]
          },
          "metadata": {
            "tags": []
          }
        }
      ]
    },
    {
      "cell_type": "code",
      "metadata": {
        "id": "THWZSmbjBqAx",
        "colab_type": "code",
        "outputId": "6d14581b-8322-4f54-ecf3-df931681d735",
        "colab": {
          "base_uri": "https://localhost:8080/",
          "height": 425
        }
      },
      "source": [
        "train_loop(3,0.0001)"
      ],
      "execution_count": 71,
      "outputs": [
        {
          "output_type": "stream",
          "text": [
            "validation-0.5669784545898438\n",
            "accuracy-0.8345230221748352\n",
            "train_loss-0.10000381618738174\n",
            "validation-0.5818291902542114\n",
            "accuracy-0.8345230221748352\n",
            "train_loss-0.06687801331281662\n",
            "validation-0.588683009147644\n",
            "accuracy-0.8397144675254822\n",
            "train_loss-0.05300580710172653\n"
          ],
          "name": "stdout"
        },
        {
          "output_type": "display_data",
          "data": {
            "image/png": "[encoded data removed]",
            "text/plain": [
              "<Figure size 432x288 with 1 Axes>"
            ]
          },
          "metadata": {
            "tags": []
          }
        }
      ]
    },
    {
      "cell_type": "code",
      "metadata": {
        "id": "0jqCjaKntzBY",
        "colab_type": "code",
        "colab": {
          "base_uri": "https://localhost:8080/",
          "height": 425
        },
        "outputId": "f881b84f-85b0-49a6-b8c1-8449650d507a"
      },
      "source": [
        "train_loop(3,0.00001)"
      ],
      "execution_count": 73,
      "outputs": [
        {
          "output_type": "stream",
          "text": [
            "validation-0.5843309164047241\n",
            "accuracy-0.841661274433136\n",
            "train_loss-0.04443538188934326\n",
            "validation-0.5860282182693481\n",
            "accuracy-0.8403633832931519\n",
            "train_loss-0.04238271713256836\n",
            "validation-0.5869075655937195\n",
            "accuracy-0.8403633832931519\n",
            "train_loss-0.04101283475756645\n"
          ],
          "name": "stdout"
        },
        {
          "output_type": "display_data",
          "data": {
            "image/png": "[encoded data removed]",
            "text/plain": [
              "<Figure size 432x288 with 1 Axes>"
            ]
          },
          "metadata": {
            "tags": []
          }
        }
      ]
    },
    {
      "cell_type": "code",
      "metadata": {
        "id": "dLchDxULb6wd",
        "colab_type": "code",
        "outputId": "c2d6d953-f198-450f-a258-a83554791056",
        "colab": {
          "base_uri": "https://localhost:8080/",
          "height": 52
        }
      },
      "source": [
        "loss_func(model(x_val.to('cuda')),y_val),accuracy(model(x_val.to('cuda')),y_val)"
      ],
      "execution_count": 0,
      "outputs": [
        {
          "output_type": "execute_result",
          "data": {
            "text/plain": [
              "(tensor(0.4975, device='cuda:0', grad_fn=<NllLossBackward>),\n",
              " tensor(0.8326, device='cuda:0'))"
            ]
          },
          "metadata": {
            "tags": []
          },
          "execution_count": 36
        }
      ]
    },
    {
      "cell_type": "code",
      "metadata": {
        "id": "PovOp7VfeagU",
        "colab_type": "code",
        "colab": {}
      },
      "source": [
        "torch.save(model,'best_1')"
      ],
      "execution_count": 0,
      "outputs": []
    },
    {
      "cell_type": "code",
      "metadata": {
        "id": "NL4ndgdY5ua2",
        "colab_type": "code",
        "colab": {}
      },
      "source": [
        ""
      ],
      "execution_count": 0,
      "outputs": []
    }
  ]
}